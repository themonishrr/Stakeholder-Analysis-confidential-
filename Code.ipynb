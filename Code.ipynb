{
 "cells": [
  {
   "cell_type": "markdown",
   "metadata": {},
   "source": [
    "Part 1: Text Processing (Lemmatization, Tokenization, Removing Stopwords & Punctuation, Generating Bigrams)"
   ]
  },
  {
   "cell_type": "code",
   "execution_count": null,
   "metadata": {},
   "outputs": [],
   "source": [
    "import pandas as pd\n",
    "import nltk\n",
    "from nltk.corpus import stopwords\n",
    "from nltk.tokenize import word_tokenize\n",
    "from nltk.stem import WordNetLemmatizer\n",
    "from sklearn.feature_extraction.text import CountVectorizer\n",
    "\n",
    "# Ensure necessary NLTK data is downloaded\n",
    "nltk.download('punkt')\n",
    "nltk.download('stopwords')\n",
    "nltk.download('wordnet')\n",
    "\n",
    "# Initialize the WordNetLemmatizer\n",
    "lemmatizer = WordNetLemmatizer()\n",
    "\n",
    "# Load the Excel file\n",
    "\n",
    "df = pd.read_excel(file_path)\n",
    "\n",
    "# Specify the column to process\n",
    "column_name = 'Column name'\n",
    "\n",
    "# Function to process text: convert to lowercase, remove punctuation, tokenize, remove stop words, and lemmatize\n",
    "def process_text(text):\n",
    "    # Convert text to lowercase\n",
    "    text = text.lower()\n",
    "    \n",
    "    # Tokenize the text\n",
    "    words = word_tokenize(text)\n",
    "    \n",
    "    # Remove punctuation\n",
    "    words = [word for word in words if word.isalnum()]\n",
    "    \n",
    "    # Remove stop words\n",
    "    stop_words = set(stopwords.words('english'))\n",
    "    words = [word for word in words if word not in stop_words]\n",
    "    \n",
    "    # Lemmatize the words\n",
    "    words = [lemmatizer.lemmatize(word) for word in words]\n",
    "    \n",
    "    return ' '.join(words)\n",
    "\n",
    "# Apply the function to the specified column\n",
    "df['Processed_Text'] = df[column_name].apply(lambda x: process_text(str(x)))\n",
    "\n",
    "# Function to get top N bigrams using CountVectorizer\n",
    "\n",
    "\n",
    "def bigrams(corpus, n=None):\n",
    "    vec = CountVectorizer(ngram_range=(2, 2)).fit(corpus)\n",
    "    bag_of_words = vec.transform(corpus)\n",
    "    sum_words = bag_of_words.sum(axis=0) \n",
    "    words_freq = [(word, sum_words[0, idx]) for word, idx in vec.vocabulary_.items()]\n",
    "    words_freq = sorted(words_freq, key=lambda x: x[1], reverse=True)\n",
    "    return words_freq[:n]\n",
    "\n",
    "\n",
    "\n",
    "# Get top 10 bigrams\n",
    "out = bigrams(df['Processed_Text'], n=200)\n",
    "\n",
    "#Check and verify the output\n",
    "out"
   ]
  },
  {
   "cell_type": "markdown",
   "metadata": {},
   "source": [
    "Part 2: Category Columns and Binary Assignment"
   ]
  },
  {
   "cell_type": "code",
   "execution_count": null,
   "metadata": {},
   "outputs": [],
   "source": [
    "import os  \n",
    "# Define the keyword categories and their corresponding words\n",
    "categories = {\n",
    "    'x1': ['a1','a2','a3','a4'],\n",
    "    'x2': ['a1','a2','a3','a4'],\n",
    "    'x3': ['a1','a2','a3','a4'],\n",
    "    'x4': ['a1','a2','a3','a4'],\n",
    "    'x5': ['a1','a2','a3','a4'],\n",
    "    'x6':['a1','a2','a3','a4'],\n",
    "    'x7': ['a1','a2','a3','a4'],\n",
    "    'x8': ['a1','a2','a3','a4'],\n",
    "    'x9': ['a1','a2','a3','a4'],\n",
    "    'x10': ['a1','a2','a3','a4']\n",
    "}\n",
    "\n",
    "# Initialize the new columns with 0"
   ]
  },
  {
   "cell_type": "markdown",
   "metadata": {},
   "source": [
    "Multi-Hot Encoding"
   ]
  },
  {
   "cell_type": "code",
   "execution_count": null,
   "metadata": {},
   "outputs": [],
   "source": [
    "for category in categories:\n",
    "    df[category] = 0\n",
    "\n",
    "# Check each row in Processed_Text and update the new columns\n",
    "def update_category_columns(row, categories):\n",
    "    for category, keywords in categories.items():\n",
    "        # If any keyword is found in the Processed_Text, set the column to 1\n",
    "        if any(word in row for word in keywords):\n",
    "            return 1\n",
    "    return 0\n",
    "\n",
    "for category, keywords in categories.items():\n",
    "    df[category] = df['Processed_Text'].apply(lambda x: update_category_columns(x, {category: keywords}))\n",
    "\n",
    "# Save the updated DataFrame to an Excel file\n",
    "save_path = os.path.join(os.path.dirname(file_path), 'processed_file_with_categories.xlsx')\n",
    "df.to_excel(save_path, index=False)\n",
    "\n",
    "print(\"Process completed\")"
   ]
  }
 ],
 "metadata": {
  "kernelspec": {
   "display_name": "base",
   "language": "python",
   "name": "python3"
  },
  "language_info": {
   "name": "python",
   "version": "3.12.4"
  }
 },
 "nbformat": 4,
 "nbformat_minor": 2
}
